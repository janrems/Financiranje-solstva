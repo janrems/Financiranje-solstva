{
 "cells": [
  {
   "cell_type": "markdown",
   "metadata": {},
   "source": [
    "# Najbolj priljubljene knjige"
   ]
  },
  {
   "cell_type": "markdown",
   "metadata": {},
   "source": [
    "## Uvod"
   ]
  },
  {
   "cell_type": "markdown",
   "metadata": {},
   "source": [
    "V nalogi sem se posvetil analizi knjig, s seznama najboljših knjig vseh časov na spletnem portalu \"Goodreads\". Podatke sem statistično obdelal in analiziral soodvisnost pomembnejših kategorij."
   ]
  },
  {
   "cell_type": "markdown",
   "metadata": {},
   "source": [
    "## Uvoz podatkov"
   ]
  },
  {
   "cell_type": "code",
   "execution_count": 1,
   "metadata": {
    "collapsed": false
   },
   "outputs": [],
   "source": [
    "import pandas as pd\n",
    "import numpy as np\n",
    "import matplotlib.pyplot as plt\n",
    "%matplotlib inline\n",
    "plt.rcParams['figure.figsize'] = (15, 5)\n",
    "pd.options.display.max_rows = 20\n",
    "\n",
    "knjige = pd.read_csv('knjiga.csv', index_col='knjiga')\n"
   ]
  },
  {
   "cell_type": "code",
   "execution_count": 2,
   "metadata": {
    "collapsed": false
   },
   "outputs": [],
   "source": [
    "knjige.columns = ['Leto_izdaje','Rojstvo_avtorja','Zvrsti','Avtor','Leto_izida','Ocena','Stevilo_ocen','Naslov','Del_serije','Stevilo_strani','Serija','Poreklo_avtorja']"
   ]
  },
  {
   "cell_type": "code",
   "execution_count": 3,
   "metadata": {
    "collapsed": false
   },
   "outputs": [
    {
     "data": {
      "text/html": [
       "<div>\n",
       "<table border=\"1\" class=\"dataframe\">\n",
       "  <thead>\n",
       "    <tr style=\"text-align: right;\">\n",
       "      <th></th>\n",
       "      <th>Naslov</th>\n",
       "      <th>Avtor</th>\n",
       "      <th>Ocena</th>\n",
       "      <th>Stevilo_ocen</th>\n",
       "      <th>Serija</th>\n",
       "      <th>Del_serije</th>\n",
       "      <th>Leto_izida</th>\n",
       "      <th>Leto_izdaje</th>\n",
       "      <th>Stevilo_strani</th>\n",
       "      <th>Zvrsti</th>\n",
       "      <th>Rojstvo_avtorja</th>\n",
       "      <th>Poreklo_avtorja</th>\n",
       "    </tr>\n",
       "    <tr>\n",
       "      <th>knjiga</th>\n",
       "      <th></th>\n",
       "      <th></th>\n",
       "      <th></th>\n",
       "      <th></th>\n",
       "      <th></th>\n",
       "      <th></th>\n",
       "      <th></th>\n",
       "      <th></th>\n",
       "      <th></th>\n",
       "      <th></th>\n",
       "      <th></th>\n",
       "      <th></th>\n",
       "    </tr>\n",
       "  </thead>\n",
       "  <tbody>\n",
       "    <tr>\n",
       "      <th>1</th>\n",
       "      <td>The Hunger Games</td>\n",
       "      <td>Suzanne Collins</td>\n",
       "      <td>4.34</td>\n",
       "      <td>5170396</td>\n",
       "      <td>The Hunger Games</td>\n",
       "      <td>1</td>\n",
       "      <td>2008</td>\n",
       "      <td>2008</td>\n",
       "      <td>374</td>\n",
       "      <td>['youngadult', 'fiction', 'dystopia', 'fantasy...</td>\n",
       "      <td>1962.0</td>\n",
       "      <td>The United States</td>\n",
       "    </tr>\n",
       "    <tr>\n",
       "      <th>2</th>\n",
       "      <td>Harry Potter and the Order of the Phoenix</td>\n",
       "      <td>J.K. Rowling</td>\n",
       "      <td>4.47</td>\n",
       "      <td>1907536</td>\n",
       "      <td>Harry Potter</td>\n",
       "      <td>5</td>\n",
       "      <td>2003</td>\n",
       "      <td>2004</td>\n",
       "      <td>870</td>\n",
       "      <td>['fantasy', 'youngadult', 'fiction']</td>\n",
       "      <td>1965.0</td>\n",
       "      <td>The United Kingdom</td>\n",
       "    </tr>\n",
       "    <tr>\n",
       "      <th>3</th>\n",
       "      <td>To Kill a Mockingbird</td>\n",
       "      <td>Harper Lee</td>\n",
       "      <td>4.26</td>\n",
       "      <td>3453278</td>\n",
       "      <td>NaN</td>\n",
       "      <td>NaN</td>\n",
       "      <td>1960</td>\n",
       "      <td>2006</td>\n",
       "      <td>324</td>\n",
       "      <td>['classics', 'historicalfiction', 'school']</td>\n",
       "      <td>1926.0</td>\n",
       "      <td>The United States</td>\n",
       "    </tr>\n",
       "    <tr>\n",
       "      <th>4</th>\n",
       "      <td>Pride and Prejudice</td>\n",
       "      <td>Jane Austen</td>\n",
       "      <td>4.25</td>\n",
       "      <td>2290511</td>\n",
       "      <td>NaN</td>\n",
       "      <td>NaN</td>\n",
       "      <td>1813</td>\n",
       "      <td>2000</td>\n",
       "      <td>279</td>\n",
       "      <td>['classics', 'fiction', 'romance']</td>\n",
       "      <td>1775.0</td>\n",
       "      <td>England</td>\n",
       "    </tr>\n",
       "    <tr>\n",
       "      <th>5</th>\n",
       "      <td>Twilight</td>\n",
       "      <td>Stephenie Meyer</td>\n",
       "      <td>3.57</td>\n",
       "      <td>4056226</td>\n",
       "      <td>Twilight</td>\n",
       "      <td>1</td>\n",
       "      <td>2005</td>\n",
       "      <td>2006</td>\n",
       "      <td>498</td>\n",
       "      <td>['youngadult', 'fantasy', 'vampires', 'fiction...</td>\n",
       "      <td>1973.0</td>\n",
       "      <td>The United States</td>\n",
       "    </tr>\n",
       "    <tr>\n",
       "      <th>6</th>\n",
       "      <td>The Book Thief</td>\n",
       "      <td>Markus Zusak</td>\n",
       "      <td>4.36</td>\n",
       "      <td>1359125</td>\n",
       "      <td>NaN</td>\n",
       "      <td>NaN</td>\n",
       "      <td>2005</td>\n",
       "      <td>2006</td>\n",
       "      <td>552</td>\n",
       "      <td>['historicalfiction', 'fiction', 'youngadult']</td>\n",
       "      <td>1975.0</td>\n",
       "      <td>Australia</td>\n",
       "    </tr>\n",
       "    <tr>\n",
       "      <th>7</th>\n",
       "      <td>The Chronicles of Narnia</td>\n",
       "      <td>C.S. Lewis</td>\n",
       "      <td>4.25</td>\n",
       "      <td>415068</td>\n",
       "      <td>Chronicles of Narnia</td>\n",
       "      <td>1</td>\n",
       "      <td>1956</td>\n",
       "      <td>2002</td>\n",
       "      <td>767</td>\n",
       "      <td>['fantasy', 'classics', 'fiction', 'youngadult...</td>\n",
       "      <td>1898.0</td>\n",
       "      <td>Ireland</td>\n",
       "    </tr>\n",
       "    <tr>\n",
       "      <th>8</th>\n",
       "      <td>Animal Farm</td>\n",
       "      <td>George Orwell</td>\n",
       "      <td>3.88</td>\n",
       "      <td>2077294</td>\n",
       "      <td>NaN</td>\n",
       "      <td>NaN</td>\n",
       "      <td>1945</td>\n",
       "      <td>2003</td>\n",
       "      <td>122</td>\n",
       "      <td>['fiction', 'classics', 'dystopia', 'fantasy',...</td>\n",
       "      <td>1903.0</td>\n",
       "      <td>India</td>\n",
       "    </tr>\n",
       "    <tr>\n",
       "      <th>9</th>\n",
       "      <td>Gone with the Wind</td>\n",
       "      <td>Margaret Mitchell</td>\n",
       "      <td>4.28</td>\n",
       "      <td>924681</td>\n",
       "      <td>NaN</td>\n",
       "      <td>NaN</td>\n",
       "      <td>1936</td>\n",
       "      <td>1999</td>\n",
       "      <td>1037</td>\n",
       "      <td>['classics', 'historicalfiction', 'fiction', '...</td>\n",
       "      <td>1900.0</td>\n",
       "      <td>The United States</td>\n",
       "    </tr>\n",
       "    <tr>\n",
       "      <th>10</th>\n",
       "      <td>J.R.R. Tolkien 4-Book Boxed Set: The Hobbit an...</td>\n",
       "      <td>J.R.R. Tolkien</td>\n",
       "      <td>4.59</td>\n",
       "      <td>96618</td>\n",
       "      <td>NaN</td>\n",
       "      <td>NaN</td>\n",
       "      <td>1973</td>\n",
       "      <td>2012</td>\n",
       "      <td>1728</td>\n",
       "      <td>['fiction', 'fantasy', 'classics', 'sciencefic...</td>\n",
       "      <td>1892.0</td>\n",
       "      <td>South Africa</td>\n",
       "    </tr>\n",
       "    <tr>\n",
       "      <th>...</th>\n",
       "      <td>...</td>\n",
       "      <td>...</td>\n",
       "      <td>...</td>\n",
       "      <td>...</td>\n",
       "      <td>...</td>\n",
       "      <td>...</td>\n",
       "      <td>...</td>\n",
       "      <td>...</td>\n",
       "      <td>...</td>\n",
       "      <td>...</td>\n",
       "      <td>...</td>\n",
       "      <td>...</td>\n",
       "    </tr>\n",
       "    <tr>\n",
       "      <th>1191</th>\n",
       "      <td>The Boy Who Sneaks in My Bedroom Window</td>\n",
       "      <td>Kirsty Moseley</td>\n",
       "      <td>3.95</td>\n",
       "      <td>56529</td>\n",
       "      <td>NaN</td>\n",
       "      <td>NaN</td>\n",
       "      <td>2011</td>\n",
       "      <td>2012</td>\n",
       "      <td>242</td>\n",
       "      <td>['romance', 'youngadult', 'contemporary', 'new...</td>\n",
       "      <td>NaN</td>\n",
       "      <td>The United Kingdom</td>\n",
       "    </tr>\n",
       "    <tr>\n",
       "      <th>1192</th>\n",
       "      <td>Girl, Interrupted</td>\n",
       "      <td>Susanna Kaysen</td>\n",
       "      <td>3.90</td>\n",
       "      <td>155211</td>\n",
       "      <td>NaN</td>\n",
       "      <td>NaN</td>\n",
       "      <td>1993</td>\n",
       "      <td>1994</td>\n",
       "      <td>169</td>\n",
       "      <td>['memoir', 'biography']</td>\n",
       "      <td>1948.0</td>\n",
       "      <td>The United States</td>\n",
       "    </tr>\n",
       "    <tr>\n",
       "      <th>1193</th>\n",
       "      <td>Die for Me</td>\n",
       "      <td>Amy Plum</td>\n",
       "      <td>3.99</td>\n",
       "      <td>49269</td>\n",
       "      <td>Revenants</td>\n",
       "      <td>1</td>\n",
       "      <td>2011</td>\n",
       "      <td>2011</td>\n",
       "      <td>341</td>\n",
       "      <td>['youngadult', 'paranormal', 'fantasy', 'roman...</td>\n",
       "      <td>NaN</td>\n",
       "      <td>The United States</td>\n",
       "    </tr>\n",
       "    <tr>\n",
       "      <th>1194</th>\n",
       "      <td>The Brothers K</td>\n",
       "      <td>David James Duncan</td>\n",
       "      <td>4.39</td>\n",
       "      <td>11873</td>\n",
       "      <td>NaN</td>\n",
       "      <td>NaN</td>\n",
       "      <td>1992</td>\n",
       "      <td>1996</td>\n",
       "      <td>645</td>\n",
       "      <td>['fiction', 'baseball', 'historicalfiction', '...</td>\n",
       "      <td>1952.0</td>\n",
       "      <td>The United States</td>\n",
       "    </tr>\n",
       "    <tr>\n",
       "      <th>1195</th>\n",
       "      <td>Succubus Blues</td>\n",
       "      <td>Richelle Mead</td>\n",
       "      <td>3.94</td>\n",
       "      <td>47983</td>\n",
       "      <td>Georgina Kincaid</td>\n",
       "      <td>1</td>\n",
       "      <td>2007</td>\n",
       "      <td>2007</td>\n",
       "      <td>343</td>\n",
       "      <td>['urbanfantasy', 'paranormal', 'fantasy', 'rom...</td>\n",
       "      <td>NaN</td>\n",
       "      <td>NaN</td>\n",
       "    </tr>\n",
       "    <tr>\n",
       "      <th>1196</th>\n",
       "      <td>The Iliad</td>\n",
       "      <td>Homer</td>\n",
       "      <td>3.83</td>\n",
       "      <td>286071</td>\n",
       "      <td>NaN</td>\n",
       "      <td>NaN</td>\n",
       "      <td>1999</td>\n",
       "      <td>1999</td>\n",
       "      <td>683</td>\n",
       "      <td>['classics', 'poetry', 'fiction', 'mythology',...</td>\n",
       "      <td>-750.0</td>\n",
       "      <td>n Greece</td>\n",
       "    </tr>\n",
       "    <tr>\n",
       "      <th>1197</th>\n",
       "      <td>Masquerade</td>\n",
       "      <td>Melissa de la Cruz</td>\n",
       "      <td>3.91</td>\n",
       "      <td>80610</td>\n",
       "      <td>Blue Bloods</td>\n",
       "      <td>2</td>\n",
       "      <td>2007</td>\n",
       "      <td>2007</td>\n",
       "      <td>307</td>\n",
       "      <td>['vampires', 'youngadult', 'fantasy', 'paranor...</td>\n",
       "      <td>NaN</td>\n",
       "      <td>NaN</td>\n",
       "    </tr>\n",
       "    <tr>\n",
       "      <th>1198</th>\n",
       "      <td>Lola and the Boy Next Door</td>\n",
       "      <td>Stephanie Perkins</td>\n",
       "      <td>4.00</td>\n",
       "      <td>127820</td>\n",
       "      <td>Anna and the French Kiss</td>\n",
       "      <td>2</td>\n",
       "      <td>2011</td>\n",
       "      <td>2011</td>\n",
       "      <td>384</td>\n",
       "      <td>['youngadult', 'romance', 'contemporary', 'chi...</td>\n",
       "      <td>NaN</td>\n",
       "      <td>NaN</td>\n",
       "    </tr>\n",
       "    <tr>\n",
       "      <th>1199</th>\n",
       "      <td>Tomorrow, When the War Began</td>\n",
       "      <td>John Marsden</td>\n",
       "      <td>4.05</td>\n",
       "      <td>42008</td>\n",
       "      <td>Tomorrow</td>\n",
       "      <td>1</td>\n",
       "      <td>1993</td>\n",
       "      <td>2006</td>\n",
       "      <td>276</td>\n",
       "      <td>['youngadult', 'fiction', 'dystopia']</td>\n",
       "      <td>1950.0</td>\n",
       "      <td>n Australia</td>\n",
       "    </tr>\n",
       "    <tr>\n",
       "      <th>1200</th>\n",
       "      <td>Crossing the Seas: A Diary of My Thoughts</td>\n",
       "      <td>Yuehai Xiao</td>\n",
       "      <td>4.46</td>\n",
       "      <td>104</td>\n",
       "      <td>NaN</td>\n",
       "      <td>NaN</td>\n",
       "      <td>2012</td>\n",
       "      <td>2012</td>\n",
       "      <td>328</td>\n",
       "      <td>['nonfiction']</td>\n",
       "      <td>NaN</td>\n",
       "      <td>NaN</td>\n",
       "    </tr>\n",
       "  </tbody>\n",
       "</table>\n",
       "<p>1200 rows × 12 columns</p>\n",
       "</div>"
      ],
      "text/plain": [
       "                                                   Naslov               Avtor  \\\n",
       "knjiga                                                                          \n",
       "1                                        The Hunger Games     Suzanne Collins   \n",
       "2               Harry Potter and the Order of the Phoenix        J.K. Rowling   \n",
       "3                                   To Kill a Mockingbird          Harper Lee   \n",
       "4                                     Pride and Prejudice         Jane Austen   \n",
       "5                                                Twilight     Stephenie Meyer   \n",
       "6                                          The Book Thief        Markus Zusak   \n",
       "7                                The Chronicles of Narnia          C.S. Lewis   \n",
       "8                                             Animal Farm       George Orwell   \n",
       "9                                      Gone with the Wind   Margaret Mitchell   \n",
       "10      J.R.R. Tolkien 4-Book Boxed Set: The Hobbit an...      J.R.R. Tolkien   \n",
       "...                                                   ...                 ...   \n",
       "1191              The Boy Who Sneaks in My Bedroom Window      Kirsty Moseley   \n",
       "1192                                    Girl, Interrupted      Susanna Kaysen   \n",
       "1193                                           Die for Me            Amy Plum   \n",
       "1194                                       The Brothers K  David James Duncan   \n",
       "1195                                       Succubus Blues       Richelle Mead   \n",
       "1196                                            The Iliad               Homer   \n",
       "1197                                           Masquerade  Melissa de la Cruz   \n",
       "1198                           Lola and the Boy Next Door   Stephanie Perkins   \n",
       "1199                         Tomorrow, When the War Began        John Marsden   \n",
       "1200            Crossing the Seas: A Diary of My Thoughts         Yuehai Xiao   \n",
       "\n",
       "        Ocena  Stevilo_ocen                    Serija Del_serije  Leto_izida  \\\n",
       "knjiga                                                                         \n",
       "1        4.34       5170396          The Hunger Games          1        2008   \n",
       "2        4.47       1907536              Harry Potter          5        2003   \n",
       "3        4.26       3453278                       NaN        NaN        1960   \n",
       "4        4.25       2290511                       NaN        NaN        1813   \n",
       "5        3.57       4056226                  Twilight          1        2005   \n",
       "6        4.36       1359125                       NaN        NaN        2005   \n",
       "7        4.25        415068      Chronicles of Narnia          1        1956   \n",
       "8        3.88       2077294                       NaN        NaN        1945   \n",
       "9        4.28        924681                       NaN        NaN        1936   \n",
       "10       4.59         96618                       NaN        NaN        1973   \n",
       "...       ...           ...                       ...        ...         ...   \n",
       "1191     3.95         56529                       NaN        NaN        2011   \n",
       "1192     3.90        155211                       NaN        NaN        1993   \n",
       "1193     3.99         49269                 Revenants          1        2011   \n",
       "1194     4.39         11873                       NaN        NaN        1992   \n",
       "1195     3.94         47983          Georgina Kincaid          1        2007   \n",
       "1196     3.83        286071                       NaN        NaN        1999   \n",
       "1197     3.91         80610               Blue Bloods          2        2007   \n",
       "1198     4.00        127820  Anna and the French Kiss          2        2011   \n",
       "1199     4.05         42008                  Tomorrow          1        1993   \n",
       "1200     4.46           104                       NaN        NaN        2012   \n",
       "\n",
       "        Leto_izdaje  Stevilo_strani  \\\n",
       "knjiga                                \n",
       "1              2008             374   \n",
       "2              2004             870   \n",
       "3              2006             324   \n",
       "4              2000             279   \n",
       "5              2006             498   \n",
       "6              2006             552   \n",
       "7              2002             767   \n",
       "8              2003             122   \n",
       "9              1999            1037   \n",
       "10             2012            1728   \n",
       "...             ...             ...   \n",
       "1191           2012             242   \n",
       "1192           1994             169   \n",
       "1193           2011             341   \n",
       "1194           1996             645   \n",
       "1195           2007             343   \n",
       "1196           1999             683   \n",
       "1197           2007             307   \n",
       "1198           2011             384   \n",
       "1199           2006             276   \n",
       "1200           2012             328   \n",
       "\n",
       "                                                   Zvrsti  Rojstvo_avtorja  \\\n",
       "knjiga                                                                       \n",
       "1       ['youngadult', 'fiction', 'dystopia', 'fantasy...           1962.0   \n",
       "2                    ['fantasy', 'youngadult', 'fiction']           1965.0   \n",
       "3             ['classics', 'historicalfiction', 'school']           1926.0   \n",
       "4                      ['classics', 'fiction', 'romance']           1775.0   \n",
       "5       ['youngadult', 'fantasy', 'vampires', 'fiction...           1973.0   \n",
       "6          ['historicalfiction', 'fiction', 'youngadult']           1975.0   \n",
       "7       ['fantasy', 'classics', 'fiction', 'youngadult...           1898.0   \n",
       "8       ['fiction', 'classics', 'dystopia', 'fantasy',...           1903.0   \n",
       "9       ['classics', 'historicalfiction', 'fiction', '...           1900.0   \n",
       "10      ['fiction', 'fantasy', 'classics', 'sciencefic...           1892.0   \n",
       "...                                                   ...              ...   \n",
       "1191    ['romance', 'youngadult', 'contemporary', 'new...              NaN   \n",
       "1192                              ['memoir', 'biography']           1948.0   \n",
       "1193    ['youngadult', 'paranormal', 'fantasy', 'roman...              NaN   \n",
       "1194    ['fiction', 'baseball', 'historicalfiction', '...           1952.0   \n",
       "1195    ['urbanfantasy', 'paranormal', 'fantasy', 'rom...              NaN   \n",
       "1196    ['classics', 'poetry', 'fiction', 'mythology',...           -750.0   \n",
       "1197    ['vampires', 'youngadult', 'fantasy', 'paranor...              NaN   \n",
       "1198    ['youngadult', 'romance', 'contemporary', 'chi...              NaN   \n",
       "1199                ['youngadult', 'fiction', 'dystopia']           1950.0   \n",
       "1200                                       ['nonfiction']              NaN   \n",
       "\n",
       "           Poreklo_avtorja  \n",
       "knjiga                      \n",
       "1        The United States  \n",
       "2       The United Kingdom  \n",
       "3        The United States  \n",
       "4                  England  \n",
       "5        The United States  \n",
       "6                Australia  \n",
       "7                  Ireland  \n",
       "8                    India  \n",
       "9        The United States  \n",
       "10            South Africa  \n",
       "...                    ...  \n",
       "1191    The United Kingdom  \n",
       "1192     The United States  \n",
       "1193     The United States  \n",
       "1194     The United States  \n",
       "1195                   NaN  \n",
       "1196              n Greece  \n",
       "1197                   NaN  \n",
       "1198                   NaN  \n",
       "1199           n Australia  \n",
       "1200                   NaN  \n",
       "\n",
       "[1200 rows x 12 columns]"
      ]
     },
     "execution_count": 3,
     "metadata": {},
     "output_type": "execute_result"
    }
   ],
   "source": [
    "knjige = knjige[['Naslov','Avtor','Ocena','Stevilo_ocen','Serija','Del_serije','Leto_izida','Leto_izdaje','Stevilo_strani','Zvrsti','Rojstvo_avtorja','Poreklo_avtorja']]\n",
    "knjige"
   ]
  },
  {
   "cell_type": "markdown",
   "metadata": {},
   "source": [
    "V tabeli \"knjige\", katere vzorec vidimo zgoraj, so zbrane knjige ter nekatere informacije o le-teh. Vrstni red knjig je kakršen je bil dan na spletni strani. Knjige so razvrščene glede na število in višino ocen podanih s strani uporabnikov. Ker ne poznam formule za razvrstitev se bom pri analizi osredotočil na število ocen in višino le-teh posebej, uvrstitev na lestvici pa bom uporabil zgolj kot ključ. Knjig je 1200, kategorij pa 13.\n",
    "\n",
    "V nadaljevanju bom poizkusil analizirati odvisnost popularnosti knjig glede na različne kategorije, kot so recimo leto izida, zvrst, število strani in tako naprej.  Ker podatki o jeziku originalnega dela niso bili na voljo oz. so praktično vsi ocenjeni izvodi knjig v angleščini, bom kot \"nacionalnost\" knjige vzel kar državo iz katere prihaja avtor. \n",
    "\n",
    "Za boljši občutek pri primerjavi ocen in številu le-teh (to kategorijo lahko jemljemo kot približek za število ljudi, ki so knjigo prebrali) si na histogramih poglejmo kako sta kategoriji porazdeljeni. Ocenjevalec lahko knjigi podeli oceno od 1 do 5 nato pa se vzame njihovo povprečje."
   ]
  },
  {
   "cell_type": "markdown",
   "metadata": {},
   "source": [
    "## Analiza podatkov"
   ]
  },
  {
   "cell_type": "markdown",
   "metadata": {},
   "source": [
    "### Število ocen in njihova višina"
   ]
  },
  {
   "cell_type": "code",
   "execution_count": 4,
   "metadata": {
    "collapsed": false
   },
   "outputs": [],
   "source": [
    "zaokrozene = round(knjige.Ocena,2)"
   ]
  },
  {
   "cell_type": "code",
   "execution_count": 5,
   "metadata": {
    "collapsed": false
   },
   "outputs": [
    {
     "data": {
      "text/plain": [
       "<matplotlib.text.Text at 0x1cefa523be0>"
      ]
     },
     "execution_count": 5,
     "metadata": {},
     "output_type": "execute_result"
    },
    {
     "data": {
      "image/png": "[encoded data removed]",
      "text/plain": [
       "<matplotlib.figure.Figure at 0x1cefa6b7940>"
      ]
     },
     "metadata": {},
     "output_type": "display_data"
    }
   ],
   "source": [
    "result = plt.hist(zaokrozene)\n",
    "plt.axvline(zaokrozene.mean(),color = 'r',linewidth =2)\n",
    "plt.suptitle('Porazdelitev ocen knjig')\n",
    "plt.xlabel('Ocena knjige')\n",
    "plt.ylabel('Število knjig z določeno oceno')"
   ]
  },
  {
   "cell_type": "markdown",
   "metadata": {
    "collapsed": false
   },
   "source": [
    "Na zgornjem histogramu je prikazana porazdelitev ocen knjig. Z rečo navpičnico je označeno povprečje ocen, ki znaša 4.07. "
   ]
  },
  {
   "cell_type": "code",
   "execution_count": 6,
   "metadata": {
    "collapsed": false
   },
   "outputs": [
    {
     "data": {
      "text/plain": [
       "279413.5675"
      ]
     },
     "execution_count": 6,
     "metadata": {},
     "output_type": "execute_result"
    }
   ],
   "source": [
    "povprecno_stevilo_ocen = knjige.Stevilo_ocen.mean()\n",
    "povprecno_stevilo_ocen"
   ]
  },
  {
   "cell_type": "markdown",
   "metadata": {},
   "source": [
    "Pri analizi števila ocen knjig sem ugotovil, da so podatki preveč razpršeni, tako da histogram in podrobnejša analiza nista smiselna.\n"
   ]
  },
  {
   "cell_type": "markdown",
   "metadata": {},
   "source": [
    "### Analiza ocen knjig glede na čas izida"
   ]
  },
  {
   "cell_type": "code",
   "execution_count": 7,
   "metadata": {
    "collapsed": false
   },
   "outputs": [
    {
     "data": {
      "text/html": [
       "<div>\n",
       "<table border=\"1\" class=\"dataframe\">\n",
       "  <thead>\n",
       "    <tr style=\"text-align: right;\">\n",
       "      <th></th>\n",
       "      <th>Naslov</th>\n",
       "      <th>Avtor</th>\n",
       "      <th>Ocena</th>\n",
       "      <th>Stevilo_ocen</th>\n",
       "      <th>Serija</th>\n",
       "      <th>Del_serije</th>\n",
       "      <th>Leto_izida</th>\n",
       "      <th>Leto_izdaje</th>\n",
       "      <th>Stevilo_strani</th>\n",
       "      <th>Zvrsti</th>\n",
       "      <th>Rojstvo_avtorja</th>\n",
       "      <th>Poreklo_avtorja</th>\n",
       "    </tr>\n",
       "    <tr>\n",
       "      <th>knjiga</th>\n",
       "      <th></th>\n",
       "      <th></th>\n",
       "      <th></th>\n",
       "      <th></th>\n",
       "      <th></th>\n",
       "      <th></th>\n",
       "      <th></th>\n",
       "      <th></th>\n",
       "      <th></th>\n",
       "      <th></th>\n",
       "      <th></th>\n",
       "      <th></th>\n",
       "    </tr>\n",
       "  </thead>\n",
       "  <tbody>\n",
       "    <tr>\n",
       "      <th>54</th>\n",
       "      <td>The Odyssey</td>\n",
       "      <td>Homer</td>\n",
       "      <td>3.73</td>\n",
       "      <td>732143</td>\n",
       "      <td>NaN</td>\n",
       "      <td>NaN</td>\n",
       "      <td>2006</td>\n",
       "      <td>2006</td>\n",
       "      <td>541</td>\n",
       "      <td>['classics', 'fiction', 'poetry', 'mythology',...</td>\n",
       "      <td>-750.0</td>\n",
       "      <td>n Greece</td>\n",
       "    </tr>\n",
       "    <tr>\n",
       "      <th>97</th>\n",
       "      <td>The Complete Stories and Poems</td>\n",
       "      <td>Edgar Allan Poe</td>\n",
       "      <td>4.37</td>\n",
       "      <td>163878</td>\n",
       "      <td>NaN</td>\n",
       "      <td>NaN</td>\n",
       "      <td>1966</td>\n",
       "      <td>1984</td>\n",
       "      <td>821</td>\n",
       "      <td>['poetry', 'horror', 'shortstories', 'classics...</td>\n",
       "      <td>1809.0</td>\n",
       "      <td>The United States</td>\n",
       "    </tr>\n",
       "    <tr>\n",
       "      <th>233</th>\n",
       "      <td>The Iliad/The Odyssey</td>\n",
       "      <td>Homer</td>\n",
       "      <td>4.03</td>\n",
       "      <td>52871</td>\n",
       "      <td>NaN</td>\n",
       "      <td>NaN</td>\n",
       "      <td>1999</td>\n",
       "      <td>1999</td>\n",
       "      <td>1556</td>\n",
       "      <td>['classics', 'fiction', 'poetry', 'mythology']</td>\n",
       "      <td>-750.0</td>\n",
       "      <td>n Greece</td>\n",
       "    </tr>\n",
       "    <tr>\n",
       "      <th>279</th>\n",
       "      <td>Speak</td>\n",
       "      <td>Laurie Halse Anderson</td>\n",
       "      <td>4.00</td>\n",
       "      <td>386124</td>\n",
       "      <td>NaN</td>\n",
       "      <td>NaN</td>\n",
       "      <td>1999</td>\n",
       "      <td>2001</td>\n",
       "      <td>208</td>\n",
       "      <td>['youngadult', 'fiction', 'contemporary', 'rea...</td>\n",
       "      <td>4242.0</td>\n",
       "      <td>The United States</td>\n",
       "    </tr>\n",
       "    <tr>\n",
       "      <th>354</th>\n",
       "      <td>The Tell-Tale Heart and Other Writings</td>\n",
       "      <td>Edgar Allan Poe</td>\n",
       "      <td>4.15</td>\n",
       "      <td>199221</td>\n",
       "      <td>NaN</td>\n",
       "      <td>NaN</td>\n",
       "      <td>1982</td>\n",
       "      <td>2004</td>\n",
       "      <td>448</td>\n",
       "      <td>['classics', 'horror', 'fiction', 'shortstorie...</td>\n",
       "      <td>1809.0</td>\n",
       "      <td>The United States</td>\n",
       "    </tr>\n",
       "    <tr>\n",
       "      <th>500</th>\n",
       "      <td>The Republic</td>\n",
       "      <td>Plato</td>\n",
       "      <td>3.91</td>\n",
       "      <td>129524</td>\n",
       "      <td>NaN</td>\n",
       "      <td>NaN</td>\n",
       "      <td>2003</td>\n",
       "      <td>2003</td>\n",
       "      <td>416</td>\n",
       "      <td>['philosophy', 'classics', 'nonfiction', 'poli...</td>\n",
       "      <td>-428.0</td>\n",
       "      <td>Greece</td>\n",
       "    </tr>\n",
       "    <tr>\n",
       "      <th>663</th>\n",
       "      <td>The Aeneid</td>\n",
       "      <td>Virgil</td>\n",
       "      <td>3.81</td>\n",
       "      <td>89083</td>\n",
       "      <td>NaN</td>\n",
       "      <td>NaN</td>\n",
       "      <td>1990</td>\n",
       "      <td>1990</td>\n",
       "      <td>442</td>\n",
       "      <td>['poetry', 'fiction', 'mythology', 'classics',...</td>\n",
       "      <td>-70.0</td>\n",
       "      <td>Italy</td>\n",
       "    </tr>\n",
       "    <tr>\n",
       "      <th>745</th>\n",
       "      <td>Guilty Pleasures</td>\n",
       "      <td>Laurell K. Hamilton</td>\n",
       "      <td>4.02</td>\n",
       "      <td>118004</td>\n",
       "      <td>Anita Blake Vampire Hunter</td>\n",
       "      <td>1</td>\n",
       "      <td>1993</td>\n",
       "      <td>2004</td>\n",
       "      <td>355</td>\n",
       "      <td>['urbanfantasy', 'vampires', 'fantasy', 'paran...</td>\n",
       "      <td>8465.0</td>\n",
       "      <td>The United States</td>\n",
       "    </tr>\n",
       "    <tr>\n",
       "      <th>855</th>\n",
       "      <td>Beastly</td>\n",
       "      <td>Alex Flinn</td>\n",
       "      <td>3.84</td>\n",
       "      <td>159920</td>\n",
       "      <td>Beastly #1; Kendra Chronicles</td>\n",
       "      <td>1</td>\n",
       "      <td>2007</td>\n",
       "      <td>2007</td>\n",
       "      <td>304</td>\n",
       "      <td>['youngadult', 'fantasy', 'romance', 'fairytal...</td>\n",
       "      <td>1750.0</td>\n",
       "      <td>The United States</td>\n",
       "    </tr>\n",
       "    <tr>\n",
       "      <th>1066</th>\n",
       "      <td>Wintergirls</td>\n",
       "      <td>Laurie Halse Anderson</td>\n",
       "      <td>3.99</td>\n",
       "      <td>94687</td>\n",
       "      <td>NaN</td>\n",
       "      <td>NaN</td>\n",
       "      <td>2009</td>\n",
       "      <td>2009</td>\n",
       "      <td>278</td>\n",
       "      <td>['youngadult', 'fiction', 'contemporary', 'rea...</td>\n",
       "      <td>4242.0</td>\n",
       "      <td>The United States</td>\n",
       "    </tr>\n",
       "    <tr>\n",
       "      <th>1076</th>\n",
       "      <td>Meditations</td>\n",
       "      <td>Marcus Aurelius</td>\n",
       "      <td>4.21</td>\n",
       "      <td>59682</td>\n",
       "      <td>NaN</td>\n",
       "      <td>NaN</td>\n",
       "      <td>2006</td>\n",
       "      <td>2006</td>\n",
       "      <td>304</td>\n",
       "      <td>['philosophy', 'classics', 'nonfiction', 'hist...</td>\n",
       "      <td>-121.0</td>\n",
       "      <td>Italy</td>\n",
       "    </tr>\n",
       "    <tr>\n",
       "      <th>1196</th>\n",
       "      <td>The Iliad</td>\n",
       "      <td>Homer</td>\n",
       "      <td>3.83</td>\n",
       "      <td>286071</td>\n",
       "      <td>NaN</td>\n",
       "      <td>NaN</td>\n",
       "      <td>1999</td>\n",
       "      <td>1999</td>\n",
       "      <td>683</td>\n",
       "      <td>['classics', 'poetry', 'fiction', 'mythology',...</td>\n",
       "      <td>-750.0</td>\n",
       "      <td>n Greece</td>\n",
       "    </tr>\n",
       "  </tbody>\n",
       "</table>\n",
       "</div>"
      ],
      "text/plain": [
       "                                        Naslov                  Avtor  Ocena  \\\n",
       "knjiga                                                                         \n",
       "54                                 The Odyssey                  Homer   3.73   \n",
       "97              The Complete Stories and Poems        Edgar Allan Poe   4.37   \n",
       "233                      The Iliad/The Odyssey                  Homer   4.03   \n",
       "279                                      Speak  Laurie Halse Anderson   4.00   \n",
       "354     The Tell-Tale Heart and Other Writings        Edgar Allan Poe   4.15   \n",
       "500                               The Republic                  Plato   3.91   \n",
       "663                                 The Aeneid                 Virgil   3.81   \n",
       "745                           Guilty Pleasures    Laurell K. Hamilton   4.02   \n",
       "855                                    Beastly             Alex Flinn   3.84   \n",
       "1066                               Wintergirls  Laurie Halse Anderson   3.99   \n",
       "1076                               Meditations        Marcus Aurelius   4.21   \n",
       "1196                                 The Iliad                  Homer   3.83   \n",
       "\n",
       "        Stevilo_ocen                         Serija Del_serije  Leto_izida  \\\n",
       "knjiga                                                                       \n",
       "54            732143                            NaN        NaN        2006   \n",
       "97            163878                            NaN        NaN        1966   \n",
       "233            52871                            NaN        NaN        1999   \n",
       "279           386124                            NaN        NaN        1999   \n",
       "354           199221                            NaN        NaN        1982   \n",
       "500           129524                            NaN        NaN        2003   \n",
       "663            89083                            NaN        NaN        1990   \n",
       "745           118004     Anita Blake Vampire Hunter          1        1993   \n",
       "855           159920  Beastly #1; Kendra Chronicles          1        2007   \n",
       "1066           94687                            NaN        NaN        2009   \n",
       "1076           59682                            NaN        NaN        2006   \n",
       "1196          286071                            NaN        NaN        1999   \n",
       "\n",
       "        Leto_izdaje  Stevilo_strani  \\\n",
       "knjiga                                \n",
       "54             2006             541   \n",
       "97             1984             821   \n",
       "233            1999            1556   \n",
       "279            2001             208   \n",
       "354            2004             448   \n",
       "500            2003             416   \n",
       "663            1990             442   \n",
       "745            2004             355   \n",
       "855            2007             304   \n",
       "1066           2009             278   \n",
       "1076           2006             304   \n",
       "1196           1999             683   \n",
       "\n",
       "                                                   Zvrsti  Rojstvo_avtorja  \\\n",
       "knjiga                                                                       \n",
       "54      ['classics', 'fiction', 'poetry', 'mythology',...           -750.0   \n",
       "97      ['poetry', 'horror', 'shortstories', 'classics...           1809.0   \n",
       "233        ['classics', 'fiction', 'poetry', 'mythology']           -750.0   \n",
       "279     ['youngadult', 'fiction', 'contemporary', 'rea...           4242.0   \n",
       "354     ['classics', 'horror', 'fiction', 'shortstorie...           1809.0   \n",
       "500     ['philosophy', 'classics', 'nonfiction', 'poli...           -428.0   \n",
       "663     ['poetry', 'fiction', 'mythology', 'classics',...            -70.0   \n",
       "745     ['urbanfantasy', 'vampires', 'fantasy', 'paran...           8465.0   \n",
       "855     ['youngadult', 'fantasy', 'romance', 'fairytal...           1750.0   \n",
       "1066    ['youngadult', 'fiction', 'contemporary', 'rea...           4242.0   \n",
       "1076    ['philosophy', 'classics', 'nonfiction', 'hist...           -121.0   \n",
       "1196    ['classics', 'poetry', 'fiction', 'mythology',...           -750.0   \n",
       "\n",
       "          Poreklo_avtorja  \n",
       "knjiga                     \n",
       "54               n Greece  \n",
       "97      The United States  \n",
       "233              n Greece  \n",
       "279     The United States  \n",
       "354     The United States  \n",
       "500                Greece  \n",
       "663                 Italy  \n",
       "745     The United States  \n",
       "855     The United States  \n",
       "1066    The United States  \n",
       "1076                Italy  \n",
       "1196             n Greece  "
      ]
     },
     "execution_count": 7,
     "metadata": {},
     "output_type": "execute_result"
    }
   ],
   "source": [
    "knjige[abs(knjige.Leto_izida - knjige.Rojstvo_avtorja) > 100]"
   ]
  },
  {
   "cell_type": "markdown",
   "metadata": {},
   "source": [
    "Kot vidimo v zgornji tabeli, je kar nekaj del, ki imajo navedeno očitno napačno leto izida. V spodnjih nekaj ukazih, sem popravil letnice izidov na 40 let po letnici rojstva avtorja. "
   ]
  },
  {
   "cell_type": "code",
   "execution_count": 8,
   "metadata": {
    "collapsed": false
   },
   "outputs": [],
   "source": [
    "knjige.loc[abs(knjige.Leto_izida - knjige.Rojstvo_avtorja) > 100, 'Leto_izida']= knjige['Rojstvo_avtorja']+40\n",
    "knjige.loc[knjige.Leto_izida > 2018,'Leto_izida'] = np.nan\n",
    "knjige.loc[knjige.Leto_izdaje > 2018,'Leto_izdaje'] = np.nan\n",
    "knjige.loc[knjige.Rojstvo_avtorja > 2016,'Rojstvo_avtorja'] = np.nan\n",
    "knjige.loc[knjige.Avtor == 'Laurie Halse Anderson',['Rojstvo_avtorja','Leto_izdaje','Leto_izida']] = np.nan\n"
   ]
  },
  {
   "cell_type": "markdown",
   "metadata": {},
   "source": [
    "Ker je različnih let izida preveliko sem generiral novo kategorijo, ki leta izidov del razvrsti po stoletjih."
   ]
  },
  {
   "cell_type": "code",
   "execution_count": 9,
   "metadata": {
    "collapsed": false
   },
   "outputs": [],
   "source": [
    "knjige.loc[knjige.Leto_izida > 0,'Stoletje'] = (knjige.Leto_izida // 100) +1\n",
    "knjige.loc[knjige.Leto_izida < 0,'Stoletje'] = (knjige.Leto_izida // 100) \n"
   ]
  },
  {
   "cell_type": "code",
   "execution_count": 10,
   "metadata": {
    "collapsed": false
   },
   "outputs": [
    {
     "data": {
      "text/plain": [
       "Stoletje\n",
       "-8.0       3\n",
       "-4.0       1\n",
       "-1.0       2\n",
       " 11.0      1\n",
       " 14.0      4\n",
       " 16.0      7\n",
       " 17.0     12\n",
       " 18.0      8\n",
       " 19.0     92\n",
       " 20.0    559\n",
       " 21.0    507\n",
       "dtype: int64"
      ]
     },
     "execution_count": 10,
     "metadata": {},
     "output_type": "execute_result"
    }
   ],
   "source": [
    "knjige.groupby('Stoletje').size()"
   ]
  },
  {
   "cell_type": "markdown",
   "metadata": {},
   "source": [
    "Kot vidimo, je večina knjig na seznamu iz 20. oziroma 21. stoleja. Opazimo, da med 1. in 11. stoletjem ni na seznamu nobene knjige, kar kronološko sovpada s \"temačnim\" obdobjem srednjega veka. Bistven porast izdaje knjig je moč opaziti šele od 19. stoletja naprej. Pa so knjige iz poznejših stoletji tudi bolj brane?"
   ]
  },
  {
   "cell_type": "code",
   "execution_count": 11,
   "metadata": {
    "collapsed": false
   },
   "outputs": [
    {
     "data": {
      "text/plain": [
       "<matplotlib.text.Text at 0x1cefa7ddb70>"
      ]
     },
     "execution_count": 11,
     "metadata": {},
     "output_type": "execute_result"
    },
    {
     "data": {
      "image/png": "[encoded data removed]",
      "text/plain": [
       "<matplotlib.figure.Figure at 0x1cefa791f28>"
      ]
     },
     "metadata": {},
     "output_type": "display_data"
    }
   ],
   "source": [
    "st_ocen = knjige.groupby('Stoletje')['Stevilo_ocen'].mean()\n",
    "graf = st_ocen.plot()\n",
    "plt.suptitle('Povprečno število ocen za knjige po stoletjih')\n",
    "plt.ylabel('Povprečno število ocen')\n",
    "\n"
   ]
  },
  {
   "cell_type": "markdown",
   "metadata": {},
   "source": [
    "Na prvi pogled se zdi, da so knjige iz antike in renesanse večkrat ocenjene, kot knjige 20. in 21. stoletja. Vendar je potrobno v upoštev vzeti, da je večina, knjig na lestvici iz bljižnje preteklosti in zato vzorca težko primirjamo. Če izberemo povprečje 200 najboljših knjig v določenem stoletju (če jih seveda je toliko, v 20. in 21. pa je to približno zgornja polovica vseh knjig), dobimo bolj realno sliko. Je pa iz analize števila kjig po stoletjih in njihovih branosti, lepo vidno sovpadanje z civilizacijskimi dosežki tekom zgodovine. Visoki dosežki v antiki so predvsem zasluga Homerja, medtem ko je velik skok v 16. stoletju posledica ustvarjanja in popularnosti Shakespearea. To sta tudi edini dve obdobji do 19. stoletja, ki presežeta povprečno število ocen na knjigo (rdeča črta na grafu). Nato pa od 19. stoletja dalje število knjig na lestvici in njihova branost skokovito zrasteta. Rast se nekoliko umiri šele na prehodu v 21. stoletje. Trend je lepo viden na spodnjem grafu."
   ]
  },
  {
   "cell_type": "code",
   "execution_count": 12,
   "metadata": {
    "collapsed": false
   },
   "outputs": [
    {
     "data": {
      "text/plain": [
       "<matplotlib.text.Text at 0x1cefaaa1cc0>"
      ]
     },
     "execution_count": 12,
     "metadata": {},
     "output_type": "execute_result"
    },
    {
     "data": {
      "image/png": "[encoded data removed]",
      "text/plain": [
       "<matplotlib.figure.Figure at 0x1cefa834be0>"
      ]
     },
     "metadata": {},
     "output_type": "display_data"
    }
   ],
   "source": [
    "naj_brane = knjige.groupby('Stoletje')['Stevilo_ocen'].apply(lambda ser: ser.nlargest(250).mean())\n",
    "g_naj = naj_brane.plot()\n",
    "g_naj.axhline(y =povprecno_stevilo_ocen,color = 'r',lw = 2 )\n",
    "plt.suptitle('Povprečno število ocen za 100 najbolj branih knjige po stoletjih')\n",
    "plt.ylabel('Povprečno število ocen')\n",
    "\n",
    "\n"
   ]
  },
  {
   "cell_type": "markdown",
   "metadata": {},
   "source": [
    "Poglejmo si še kako sta odvisna višina ocene in stoletje izida knjige. Kako je 100 najvišje ocenjenih knjig razporejenih po stoletjih?"
   ]
  },
  {
   "cell_type": "code",
   "execution_count": 13,
   "metadata": {
    "collapsed": false
   },
   "outputs": [
    {
     "data": {
      "text/plain": [
       "0.8883333333333333"
      ]
     },
     "execution_count": 13,
     "metadata": {},
     "output_type": "execute_result"
    }
   ],
   "source": [
    "delez_knjig_iz_20_21 = len(knjige[(knjige.Stoletje == 20.0)|(knjige.Stoletje==21.0)]['Naslov'])/1200\n",
    "delez_knjig_iz_20_21"
   ]
  },
  {
   "cell_type": "code",
   "execution_count": 14,
   "metadata": {
    "collapsed": false
   },
   "outputs": [
    {
     "data": {
      "image/png": "[encoded data removed]",
      "text/plain": [
       "<matplotlib.figure.Figure at 0x1cefab031d0>"
      ]
     },
     "metadata": {},
     "output_type": "display_data"
    }
   ],
   "source": [
    "po_ocenah = knjige.sort_values('Ocena', ascending = False)\n",
    "ocene_stolet = po_ocenah.head(100).groupby('Stoletje').size()\n",
    "g = ocene_stolet.plot.pie(figsize=(8,8), autopct = '%.2f',title = 'Zastopanost stoletji v 100 najbolje ocenjenih knjigah')\n",
    "plt.axis('equal')\n",
    "g.set_ylabel('')\n",
    "plt.show()"
   ]
  },
  {
   "cell_type": "markdown",
   "metadata": {},
   "source": [
    "Vidimo, da močno prednačijo knjige iz 21. stoletja, kateremu sledi 20.stoletje. Mali delež zavzemajo še dela iz 19. in 17. stoletja, drugih obdobji pa med 100 najbolje ocenjenimi knjigami ni. To je verjetno posledica tega, da je večina uporabnikov spletne strani \"Goodreads\" mladih in so jim tako bližje novejše knjige. Bi pa pričakovali, da se bo s povečanjem števila knjig povečalo tudi število slabše ocenjenih knjig. Poglejmo si kako je s tem."
   ]
  },
  {
   "cell_type": "code",
   "execution_count": 15,
   "metadata": {
    "collapsed": false,
    "scrolled": false
   },
   "outputs": [
    {
     "data": {
      "image/png": "[encoded data removed]",
      "text/plain": [
       "<matplotlib.figure.Figure at 0x1cefab409b0>"
      ]
     },
     "metadata": {},
     "output_type": "display_data"
    }
   ],
   "source": [
    "po_ocenah = knjige.sort_values('Ocena', ascending = True)\n",
    "ocene_stolet = po_ocenah.head(100).groupby('Stoletje').size()\n",
    "g = ocene_stolet.plot.pie(figsize=(8,8), autopct = '%.2f',title='Zastopanost stoletji v 100 najslabše ocenjenih knjigah')\n",
    "plt.axis('equal')\n",
    "g.set_ylabel('')\n",
    "plt.show()"
   ]
  },
  {
   "cell_type": "markdown",
   "metadata": {},
   "source": [
    "Če se zgolj osredotočimo na 100 najslabše ocenjenih knjig, dobimo mnogo bolj raznoliko sliko. Sicer še vedno močno prednjačita 20. in 21. stoletje, a imamo več predstavnikov drugih stoletji. Poleg tega gre opomniti da je 12 % delež 19. stoletja daleč od zanemarljivega. Glede na to, da je odstotek  knjig, ki so bile izdane v 20. ali 21. stoletju 88 %, odstotek teh knjig med najslabše ocenjenimi 100 pa 79 % lahko sklepamo, da je v 20. in 21. stoletju izdanih več bolje ocenjenih knjig kot v prejšnjih stoletjih. "
   ]
  },
  {
   "cell_type": "code",
   "execution_count": 16,
   "metadata": {
    "collapsed": false
   },
   "outputs": [
    {
     "data": {
      "text/plain": [
       "Stoletje\n",
       "-8.0     3.863333\n",
       "-4.0     3.910000\n",
       "-1.0     4.010000\n",
       " 11.0    3.710000\n",
       " 14.0    3.847500\n",
       " 16.0    3.825714\n",
       " 17.0    4.020833\n",
       " 18.0    3.780000\n",
       " 19.0    3.955217\n",
       " 20.0    3.886400\n",
       " 21.0    3.907120\n",
       "Name: Ocena, dtype: float64"
      ]
     },
     "execution_count": 16,
     "metadata": {},
     "output_type": "execute_result"
    }
   ],
   "source": [
    "knjige.groupby('Stoletje')['Ocena'].apply(lambda ser: ser.nsmallest(250).mean())"
   ]
  },
  {
   "cell_type": "markdown",
   "metadata": {},
   "source": [
    "V zgornji tabeli smo vzeli 250 najslabše ocenjenih knjig v vsakem obdobju (z izjemo 20. in 21. stoletja so zaradi manj podatkov to kar vse knjige izdane v nekem stoletju) in izračunali njihovo povprečje. Lepo je vidno, da povprečje slabše ovcenjene polovice knjig zadnjih dveh stoletji, bistveno ne zaostaja za povprečno oceno knjig starejših obdobji, torej lahko nekoliko presenetljivo sklepamo, da kljub povečanju števila izdanih knjig v 20. in 21. stoletju, njihova kvaliteta (upoštevajoč zgolj ocene seveda) ne pada, temveč raste.  "
   ]
  },
  {
   "cell_type": "markdown",
   "metadata": {},
   "source": [
    "### Analiza ocen knjig glede na članstvo v seriji"
   ]
  },
  {
   "cell_type": "markdown",
   "metadata": {},
   "source": [
    "V naslednjem razdelku, bom proučil število ocen in njihovo višino, glede na to ali je knjiga del neke serije ali ne. Za potrebe analize generiram novo kategorijo z logičnimi vrednostmi imenovano \"Je_serija\". Spodaj je prikazanih nekaj lastnosti knjig, ki so oz. niso del kakšne serije."
   ]
  },
  {
   "cell_type": "code",
   "execution_count": 17,
   "metadata": {
    "collapsed": false
   },
   "outputs": [],
   "source": [
    "knjige['Je_serija'] = ~knjige['Serija'].isnull()"
   ]
  },
  {
   "cell_type": "code",
   "execution_count": 18,
   "metadata": {
    "collapsed": false
   },
   "outputs": [
    {
     "data": {
      "text/plain": [
       "Je_serija\n",
       "False    702\n",
       "True     498\n",
       "Name: Naslov, dtype: int64"
      ]
     },
     "execution_count": 18,
     "metadata": {},
     "output_type": "execute_result"
    }
   ],
   "source": [
    "knjige.groupby('Je_serija')['Naslov'].count()"
   ]
  },
  {
   "cell_type": "code",
   "execution_count": 19,
   "metadata": {
    "collapsed": false
   },
   "outputs": [
    {
     "data": {
      "text/plain": [
       "Je_serija\n",
       "False    4.028704\n",
       "True     4.121948\n",
       "Name: Ocena, dtype: float64"
      ]
     },
     "execution_count": 19,
     "metadata": {},
     "output_type": "execute_result"
    }
   ],
   "source": [
    "knjige.groupby('Je_serija')['Ocena'].mean()"
   ]
  },
  {
   "cell_type": "code",
   "execution_count": 20,
   "metadata": {
    "collapsed": false
   },
   "outputs": [
    {
     "data": {
      "text/plain": [
       "Je_serija\n",
       "False    264342\n",
       "True     300658\n",
       "Name: Stevilo_ocen, dtype: int64"
      ]
     },
     "execution_count": 20,
     "metadata": {},
     "output_type": "execute_result"
    }
   ],
   "source": [
    "knjige.groupby('Je_serija')['Stevilo_ocen'].mean()"
   ]
  },
  {
   "cell_type": "code",
   "execution_count": 21,
   "metadata": {
    "collapsed": false
   },
   "outputs": [
    {
     "data": {
      "text/plain": [
       "Je_serija\n",
       "False    1926.773963\n",
       "True     1994.309859\n",
       "Name: Leto_izida, dtype: float64"
      ]
     },
     "execution_count": 21,
     "metadata": {},
     "output_type": "execute_result"
    }
   ],
   "source": [
    "knjige.groupby('Je_serija')['Leto_izida'].mean()"
   ]
  },
  {
   "cell_type": "markdown",
   "metadata": {},
   "source": [
    "Iz zgornjih podatkov lahko vidimo da so knjige, ki so del neke serije v povprečju nekoliko bolje in pa večkrat ocenjene. Prav tako so te pričakovano v povprečju novejše od tistih, ki niso del kakšne serije. "
   ]
  },
  {
   "cell_type": "code",
   "execution_count": 22,
   "metadata": {
    "collapsed": false
   },
   "outputs": [],
   "source": [
    "knjige['Del_serije'] = knjige['Del_serije'].apply(pd.to_numeric, errors = 'coerce')\n",
    "knjige.loc[knjige.Del_serije==0,'Del_serije'] = 1.0"
   ]
  },
  {
   "cell_type": "markdown",
   "metadata": {},
   "source": [
    "Kakšne pa so lastnosti različnih delov serij. Spodaj proučim ali je število ocen knjige, ki je del neke serije morda povezano s tem, kateri del v tej seriji je knjiga."
   ]
  },
  {
   "cell_type": "code",
   "execution_count": 23,
   "metadata": {
    "collapsed": false,
    "scrolled": false
   },
   "outputs": [
    {
     "data": {
      "text/plain": [
       "<matplotlib.text.Text at 0x1cefabd3c18>"
      ]
     },
     "execution_count": 23,
     "metadata": {},
     "output_type": "execute_result"
    },
    {
     "data": {
      "image/png": "[encoded data removed]",
      "text/plain": [
       "<matplotlib.figure.Figure at 0x1cefaa7de48>"
      ]
     },
     "metadata": {},
     "output_type": "display_data"
    }
   ],
   "source": [
    "knjige[(knjige.Je_serija == True)].plot.scatter('Stevilo_ocen','Del_serije',title = 'Odvisnost števila ocen od dela serije',xlim = (0,2500000))\n",
    "plt.ylabel('Del serije')\n",
    "plt.xlabel('Število ocen')"
   ]
  },
  {
   "cell_type": "markdown",
   "metadata": {},
   "source": [
    "Kot bi pričakovali so večkrat ocenjeni, torej do neke mere tudi večkrat brani, začetni deli serij. To je verjetno posledica dejstva, da nekateri bralci nad kakšno od serij preprosto obupajo. Korelacije med višino ocene in delom serije ni zaznati. "
   ]
  },
  {
   "cell_type": "markdown",
   "metadata": {},
   "source": [
    "### Analiza zvrsti knjig"
   ]
  },
  {
   "cell_type": "markdown",
   "metadata": {},
   "source": [
    "V tem razdelku, se bom ukvarjal z zvrstmi knjig in potencialnimi korelacijami z drugimi kategorijami. Prav tako bom spremljal pogostost določenih zvrsti tekom stoletji. Za uspešno analizo sem moral uvoziti novo tabelo \"zvrsti\" in jo nato združiti s tabelo \"knjige\", v novo tabelo \"zvrsti_knjig\"."
   ]
  },
  {
   "cell_type": "code",
   "execution_count": 24,
   "metadata": {
    "collapsed": true
   },
   "outputs": [],
   "source": [
    "zvrsti = pd.read_csv('zvrsti.csv',index_col = 'knjiga')"
   ]
  },
  {
   "cell_type": "code",
   "execution_count": 25,
   "metadata": {
    "collapsed": false
   },
   "outputs": [
    {
     "data": {
      "text/html": [
       "<div>\n",
       "<table border=\"1\" class=\"dataframe\">\n",
       "  <thead>\n",
       "    <tr style=\"text-align: right;\">\n",
       "      <th></th>\n",
       "      <th>zvrst</th>\n",
       "    </tr>\n",
       "    <tr>\n",
       "      <th>knjiga</th>\n",
       "      <th></th>\n",
       "    </tr>\n",
       "  </thead>\n",
       "  <tbody>\n",
       "    <tr>\n",
       "      <th>1</th>\n",
       "      <td>youngadult</td>\n",
       "    </tr>\n",
       "    <tr>\n",
       "      <th>1</th>\n",
       "      <td>fiction</td>\n",
       "    </tr>\n",
       "    <tr>\n",
       "      <th>1</th>\n",
       "      <td>dystopia</td>\n",
       "    </tr>\n",
       "    <tr>\n",
       "      <th>1</th>\n",
       "      <td>fantasy</td>\n",
       "    </tr>\n",
       "    <tr>\n",
       "      <th>1</th>\n",
       "      <td>sciencefiction</td>\n",
       "    </tr>\n",
       "    <tr>\n",
       "      <th>2</th>\n",
       "      <td>fantasy</td>\n",
       "    </tr>\n",
       "    <tr>\n",
       "      <th>2</th>\n",
       "      <td>youngadult</td>\n",
       "    </tr>\n",
       "    <tr>\n",
       "      <th>2</th>\n",
       "      <td>fiction</td>\n",
       "    </tr>\n",
       "    <tr>\n",
       "      <th>3</th>\n",
       "      <td>classics</td>\n",
       "    </tr>\n",
       "    <tr>\n",
       "      <th>3</th>\n",
       "      <td>historicalfiction</td>\n",
       "    </tr>\n",
       "    <tr>\n",
       "      <th>...</th>\n",
       "      <td>...</td>\n",
       "    </tr>\n",
       "    <tr>\n",
       "      <th>1197</th>\n",
       "      <td>fantasy</td>\n",
       "    </tr>\n",
       "    <tr>\n",
       "      <th>1197</th>\n",
       "      <td>paranormal</td>\n",
       "    </tr>\n",
       "    <tr>\n",
       "      <th>1198</th>\n",
       "      <td>youngadult</td>\n",
       "    </tr>\n",
       "    <tr>\n",
       "      <th>1198</th>\n",
       "      <td>romance</td>\n",
       "    </tr>\n",
       "    <tr>\n",
       "      <th>1198</th>\n",
       "      <td>contemporary</td>\n",
       "    </tr>\n",
       "    <tr>\n",
       "      <th>1198</th>\n",
       "      <td>chicklit</td>\n",
       "    </tr>\n",
       "    <tr>\n",
       "      <th>1199</th>\n",
       "      <td>youngadult</td>\n",
       "    </tr>\n",
       "    <tr>\n",
       "      <th>1199</th>\n",
       "      <td>fiction</td>\n",
       "    </tr>\n",
       "    <tr>\n",
       "      <th>1199</th>\n",
       "      <td>dystopia</td>\n",
       "    </tr>\n",
       "    <tr>\n",
       "      <th>1200</th>\n",
       "      <td>nonfiction</td>\n",
       "    </tr>\n",
       "  </tbody>\n",
       "</table>\n",
       "<p>5811 rows × 1 columns</p>\n",
       "</div>"
      ],
      "text/plain": [
       "                    zvrst\n",
       "knjiga                   \n",
       "1              youngadult\n",
       "1                 fiction\n",
       "1                dystopia\n",
       "1                 fantasy\n",
       "1          sciencefiction\n",
       "2                 fantasy\n",
       "2              youngadult\n",
       "2                 fiction\n",
       "3                classics\n",
       "3       historicalfiction\n",
       "...                   ...\n",
       "1197              fantasy\n",
       "1197           paranormal\n",
       "1198           youngadult\n",
       "1198              romance\n",
       "1198         contemporary\n",
       "1198             chicklit\n",
       "1199           youngadult\n",
       "1199              fiction\n",
       "1199             dystopia\n",
       "1200           nonfiction\n",
       "\n",
       "[5811 rows x 1 columns]"
      ]
     },
     "execution_count": 25,
     "metadata": {},
     "output_type": "execute_result"
    }
   ],
   "source": [
    "zvrsti"
   ]
  },
  {
   "cell_type": "code",
   "execution_count": 26,
   "metadata": {
    "collapsed": false
   },
   "outputs": [
    {
     "data": {
      "text/html": [
       "<div>\n",
       "<table border=\"1\" class=\"dataframe\">\n",
       "  <thead>\n",
       "    <tr style=\"text-align: right;\">\n",
       "      <th></th>\n",
       "      <th>Naslov</th>\n",
       "      <th>Avtor</th>\n",
       "      <th>Ocena</th>\n",
       "      <th>Stevilo_ocen</th>\n",
       "      <th>Serija</th>\n",
       "      <th>Del_serije</th>\n",
       "      <th>Leto_izida</th>\n",
       "      <th>Leto_izdaje</th>\n",
       "      <th>Stevilo_strani</th>\n",
       "      <th>Zvrsti</th>\n",
       "      <th>Rojstvo_avtorja</th>\n",
       "      <th>Poreklo_avtorja</th>\n",
       "      <th>Stoletje</th>\n",
       "      <th>Je_serija</th>\n",
       "      <th>Zvrst</th>\n",
       "    </tr>\n",
       "    <tr>\n",
       "      <th>knjiga</th>\n",
       "      <th></th>\n",
       "      <th></th>\n",
       "      <th></th>\n",
       "      <th></th>\n",
       "      <th></th>\n",
       "      <th></th>\n",
       "      <th></th>\n",
       "      <th></th>\n",
       "      <th></th>\n",
       "      <th></th>\n",
       "      <th></th>\n",
       "      <th></th>\n",
       "      <th></th>\n",
       "      <th></th>\n",
       "      <th></th>\n",
       "    </tr>\n",
       "  </thead>\n",
       "  <tbody>\n",
       "    <tr>\n",
       "      <th>1</th>\n",
       "      <td>The Hunger Games</td>\n",
       "      <td>Suzanne Collins</td>\n",
       "      <td>4.34</td>\n",
       "      <td>5170396</td>\n",
       "      <td>The Hunger Games</td>\n",
       "      <td>1.0</td>\n",
       "      <td>2008.0</td>\n",
       "      <td>2008.0</td>\n",
       "      <td>374</td>\n",
       "      <td>['youngadult', 'fiction', 'dystopia', 'fantasy...</td>\n",
       "      <td>1962.0</td>\n",
       "      <td>The United States</td>\n",
       "      <td>21.0</td>\n",
       "      <td>True</td>\n",
       "      <td>youngadult</td>\n",
       "    </tr>\n",
       "    <tr>\n",
       "      <th>1</th>\n",
       "      <td>The Hunger Games</td>\n",
       "      <td>Suzanne Collins</td>\n",
       "      <td>4.34</td>\n",
       "      <td>5170396</td>\n",
       "      <td>The Hunger Games</td>\n",
       "      <td>1.0</td>\n",
       "      <td>2008.0</td>\n",
       "      <td>2008.0</td>\n",
       "      <td>374</td>\n",
       "      <td>['youngadult', 'fiction', 'dystopia', 'fantasy...</td>\n",
       "      <td>1962.0</td>\n",
       "      <td>The United States</td>\n",
       "      <td>21.0</td>\n",
       "      <td>True</td>\n",
       "      <td>fiction</td>\n",
       "    </tr>\n",
       "    <tr>\n",
       "      <th>1</th>\n",
       "      <td>The Hunger Games</td>\n",
       "      <td>Suzanne Collins</td>\n",
       "      <td>4.34</td>\n",
       "      <td>5170396</td>\n",
       "      <td>The Hunger Games</td>\n",
       "      <td>1.0</td>\n",
       "      <td>2008.0</td>\n",
       "      <td>2008.0</td>\n",
       "      <td>374</td>\n",
       "      <td>['youngadult', 'fiction', 'dystopia', 'fantasy...</td>\n",
       "      <td>1962.0</td>\n",
       "      <td>The United States</td>\n",
       "      <td>21.0</td>\n",
       "      <td>True</td>\n",
       "      <td>dystopia</td>\n",
       "    </tr>\n",
       "    <tr>\n",
       "      <th>1</th>\n",
       "      <td>The Hunger Games</td>\n",
       "      <td>Suzanne Collins</td>\n",
       "      <td>4.34</td>\n",
       "      <td>5170396</td>\n",
       "      <td>The Hunger Games</td>\n",
       "      <td>1.0</td>\n",
       "      <td>2008.0</td>\n",
       "      <td>2008.0</td>\n",
       "      <td>374</td>\n",
       "      <td>['youngadult', 'fiction', 'dystopia', 'fantasy...</td>\n",
       "      <td>1962.0</td>\n",
       "      <td>The United States</td>\n",
       "      <td>21.0</td>\n",
       "      <td>True</td>\n",
       "      <td>fantasy</td>\n",
       "    </tr>\n",
       "    <tr>\n",
       "      <th>1</th>\n",
       "      <td>The Hunger Games</td>\n",
       "      <td>Suzanne Collins</td>\n",
       "      <td>4.34</td>\n",
       "      <td>5170396</td>\n",
       "      <td>The Hunger Games</td>\n",
       "      <td>1.0</td>\n",
       "      <td>2008.0</td>\n",
       "      <td>2008.0</td>\n",
       "      <td>374</td>\n",
       "      <td>['youngadult', 'fiction', 'dystopia', 'fantasy...</td>\n",
       "      <td>1962.0</td>\n",
       "      <td>The United States</td>\n",
       "      <td>21.0</td>\n",
       "      <td>True</td>\n",
       "      <td>sciencefiction</td>\n",
       "    </tr>\n",
       "    <tr>\n",
       "      <th>2</th>\n",
       "      <td>Harry Potter and the Order of the Phoenix</td>\n",
       "      <td>J.K. Rowling</td>\n",
       "      <td>4.47</td>\n",
       "      <td>1907536</td>\n",
       "      <td>Harry Potter</td>\n",
       "      <td>5.0</td>\n",
       "      <td>2003.0</td>\n",
       "      <td>2004.0</td>\n",
       "      <td>870</td>\n",
       "      <td>['fantasy', 'youngadult', 'fiction']</td>\n",
       "      <td>1965.0</td>\n",
       "      <td>The United Kingdom</td>\n",
       "      <td>21.0</td>\n",
       "      <td>True</td>\n",
       "      <td>fantasy</td>\n",
       "    </tr>\n",
       "    <tr>\n",
       "      <th>2</th>\n",
       "      <td>Harry Potter and the Order of the Phoenix</td>\n",
       "      <td>J.K. Rowling</td>\n",
       "      <td>4.47</td>\n",
       "      <td>1907536</td>\n",
       "      <td>Harry Potter</td>\n",
       "      <td>5.0</td>\n",
       "      <td>2003.0</td>\n",
       "      <td>2004.0</td>\n",
       "      <td>870</td>\n",
       "      <td>['fantasy', 'youngadult', 'fiction']</td>\n",
       "      <td>1965.0</td>\n",
       "      <td>The United Kingdom</td>\n",
       "      <td>21.0</td>\n",
       "      <td>True</td>\n",
       "      <td>youngadult</td>\n",
       "    </tr>\n",
       "    <tr>\n",
       "      <th>2</th>\n",
       "      <td>Harry Potter and the Order of the Phoenix</td>\n",
       "      <td>J.K. Rowling</td>\n",
       "      <td>4.47</td>\n",
       "      <td>1907536</td>\n",
       "      <td>Harry Potter</td>\n",
       "      <td>5.0</td>\n",
       "      <td>2003.0</td>\n",
       "      <td>2004.0</td>\n",
       "      <td>870</td>\n",
       "      <td>['fantasy', 'youngadult', 'fiction']</td>\n",
       "      <td>1965.0</td>\n",
       "      <td>The United Kingdom</td>\n",
       "      <td>21.0</td>\n",
       "      <td>True</td>\n",
       "      <td>fiction</td>\n",
       "    </tr>\n",
       "    <tr>\n",
       "      <th>3</th>\n",
       "      <td>To Kill a Mockingbird</td>\n",
       "      <td>Harper Lee</td>\n",
       "      <td>4.26</td>\n",
       "      <td>3453278</td>\n",
       "      <td>NaN</td>\n",
       "      <td>NaN</td>\n",
       "      <td>1960.0</td>\n",
       "      <td>2006.0</td>\n",
       "      <td>324</td>\n",
       "      <td>['classics', 'historicalfiction', 'school']</td>\n",
       "      <td>1926.0</td>\n",
       "      <td>The United States</td>\n",
       "      <td>20.0</td>\n",
       "      <td>False</td>\n",
       "      <td>classics</td>\n",
       "    </tr>\n",
       "    <tr>\n",
       "      <th>3</th>\n",
       "      <td>To Kill a Mockingbird</td>\n",
       "      <td>Harper Lee</td>\n",
       "      <td>4.26</td>\n",
       "      <td>3453278</td>\n",
       "      <td>NaN</td>\n",
       "      <td>NaN</td>\n",
       "      <td>1960.0</td>\n",
       "      <td>2006.0</td>\n",
       "      <td>324</td>\n",
       "      <td>['classics', 'historicalfiction', 'school']</td>\n",
       "      <td>1926.0</td>\n",
       "      <td>The United States</td>\n",
       "      <td>20.0</td>\n",
       "      <td>False</td>\n",
       "      <td>historicalfiction</td>\n",
       "    </tr>\n",
       "    <tr>\n",
       "      <th>...</th>\n",
       "      <td>...</td>\n",
       "      <td>...</td>\n",
       "      <td>...</td>\n",
       "      <td>...</td>\n",
       "      <td>...</td>\n",
       "      <td>...</td>\n",
       "      <td>...</td>\n",
       "      <td>...</td>\n",
       "      <td>...</td>\n",
       "      <td>...</td>\n",
       "      <td>...</td>\n",
       "      <td>...</td>\n",
       "      <td>...</td>\n",
       "      <td>...</td>\n",
       "      <td>...</td>\n",
       "    </tr>\n",
       "    <tr>\n",
       "      <th>1197</th>\n",
       "      <td>Masquerade</td>\n",
       "      <td>Melissa de la Cruz</td>\n",
       "      <td>3.91</td>\n",
       "      <td>80610</td>\n",
       "      <td>Blue Bloods</td>\n",
       "      <td>2.0</td>\n",
       "      <td>2007.0</td>\n",
       "      <td>2007.0</td>\n",
       "      <td>307</td>\n",
       "      <td>['vampires', 'youngadult', 'fantasy', 'paranor...</td>\n",
       "      <td>NaN</td>\n",
       "      <td>NaN</td>\n",
       "      <td>21.0</td>\n",
       "      <td>True</td>\n",
       "      <td>fantasy</td>\n",
       "    </tr>\n",
       "    <tr>\n",
       "      <th>1197</th>\n",
       "      <td>Masquerade</td>\n",
       "      <td>Melissa de la Cruz</td>\n",
       "      <td>3.91</td>\n",
       "      <td>80610</td>\n",
       "      <td>Blue Bloods</td>\n",
       "      <td>2.0</td>\n",
       "      <td>2007.0</td>\n",
       "      <td>2007.0</td>\n",
       "      <td>307</td>\n",
       "      <td>['vampires', 'youngadult', 'fantasy', 'paranor...</td>\n",
       "      <td>NaN</td>\n",
       "      <td>NaN</td>\n",
       "      <td>21.0</td>\n",
       "      <td>True</td>\n",
       "      <td>paranormal</td>\n",
       "    </tr>\n",
       "    <tr>\n",
       "      <th>1198</th>\n",
       "      <td>Lola and the Boy Next Door</td>\n",
       "      <td>Stephanie Perkins</td>\n",
       "      <td>4.00</td>\n",
       "      <td>127820</td>\n",
       "      <td>Anna and the French Kiss</td>\n",
       "      <td>2.0</td>\n",
       "      <td>2011.0</td>\n",
       "      <td>2011.0</td>\n",
       "      <td>384</td>\n",
       "      <td>['youngadult', 'romance', 'contemporary', 'chi...</td>\n",
       "      <td>NaN</td>\n",
       "      <td>NaN</td>\n",
       "      <td>21.0</td>\n",
       "      <td>True</td>\n",
       "      <td>youngadult</td>\n",
       "    </tr>\n",
       "    <tr>\n",
       "      <th>1198</th>\n",
       "      <td>Lola and the Boy Next Door</td>\n",
       "      <td>Stephanie Perkins</td>\n",
       "      <td>4.00</td>\n",
       "      <td>127820</td>\n",
       "      <td>Anna and the French Kiss</td>\n",
       "      <td>2.0</td>\n",
       "      <td>2011.0</td>\n",
       "      <td>2011.0</td>\n",
       "      <td>384</td>\n",
       "      <td>['youngadult', 'romance', 'contemporary', 'chi...</td>\n",
       "      <td>NaN</td>\n",
       "      <td>NaN</td>\n",
       "      <td>21.0</td>\n",
       "      <td>True</td>\n",
       "      <td>romance</td>\n",
       "    </tr>\n",
       "    <tr>\n",
       "      <th>1198</th>\n",
       "      <td>Lola and the Boy Next Door</td>\n",
       "      <td>Stephanie Perkins</td>\n",
       "      <td>4.00</td>\n",
       "      <td>127820</td>\n",
       "      <td>Anna and the French Kiss</td>\n",
       "      <td>2.0</td>\n",
       "      <td>2011.0</td>\n",
       "      <td>2011.0</td>\n",
       "      <td>384</td>\n",
       "      <td>['youngadult', 'romance', 'contemporary', 'chi...</td>\n",
       "      <td>NaN</td>\n",
       "      <td>NaN</td>\n",
       "      <td>21.0</td>\n",
       "      <td>True</td>\n",
       "      <td>contemporary</td>\n",
       "    </tr>\n",
       "    <tr>\n",
       "      <th>1198</th>\n",
       "      <td>Lola and the Boy Next Door</td>\n",
       "      <td>Stephanie Perkins</td>\n",
       "      <td>4.00</td>\n",
       "      <td>127820</td>\n",
       "      <td>Anna and the French Kiss</td>\n",
       "      <td>2.0</td>\n",
       "      <td>2011.0</td>\n",
       "      <td>2011.0</td>\n",
       "      <td>384</td>\n",
       "      <td>['youngadult', 'romance', 'contemporary', 'chi...</td>\n",
       "      <td>NaN</td>\n",
       "      <td>NaN</td>\n",
       "      <td>21.0</td>\n",
       "      <td>True</td>\n",
       "      <td>chicklit</td>\n",
       "    </tr>\n",
       "    <tr>\n",
       "      <th>1199</th>\n",
       "      <td>Tomorrow, When the War Began</td>\n",
       "      <td>John Marsden</td>\n",
       "      <td>4.05</td>\n",
       "      <td>42008</td>\n",
       "      <td>Tomorrow</td>\n",
       "      <td>1.0</td>\n",
       "      <td>1993.0</td>\n",
       "      <td>2006.0</td>\n",
       "      <td>276</td>\n",
       "      <td>['youngadult', 'fiction', 'dystopia']</td>\n",
       "      <td>1950.0</td>\n",
       "      <td>n Australia</td>\n",
       "      <td>20.0</td>\n",
       "      <td>True</td>\n",
       "      <td>youngadult</td>\n",
       "    </tr>\n",
       "    <tr>\n",
       "      <th>1199</th>\n",
       "      <td>Tomorrow, When the War Began</td>\n",
       "      <td>John Marsden</td>\n",
       "      <td>4.05</td>\n",
       "      <td>42008</td>\n",
       "      <td>Tomorrow</td>\n",
       "      <td>1.0</td>\n",
       "      <td>1993.0</td>\n",
       "      <td>2006.0</td>\n",
       "      <td>276</td>\n",
       "      <td>['youngadult', 'fiction', 'dystopia']</td>\n",
       "      <td>1950.0</td>\n",
       "      <td>n Australia</td>\n",
       "      <td>20.0</td>\n",
       "      <td>True</td>\n",
       "      <td>fiction</td>\n",
       "    </tr>\n",
       "    <tr>\n",
       "      <th>1199</th>\n",
       "      <td>Tomorrow, When the War Began</td>\n",
       "      <td>John Marsden</td>\n",
       "      <td>4.05</td>\n",
       "      <td>42008</td>\n",
       "      <td>Tomorrow</td>\n",
       "      <td>1.0</td>\n",
       "      <td>1993.0</td>\n",
       "      <td>2006.0</td>\n",
       "      <td>276</td>\n",
       "      <td>['youngadult', 'fiction', 'dystopia']</td>\n",
       "      <td>1950.0</td>\n",
       "      <td>n Australia</td>\n",
       "      <td>20.0</td>\n",
       "      <td>True</td>\n",
       "      <td>dystopia</td>\n",
       "    </tr>\n",
       "    <tr>\n",
       "      <th>1200</th>\n",
       "      <td>Crossing the Seas: A Diary of My Thoughts</td>\n",
       "      <td>Yuehai Xiao</td>\n",
       "      <td>4.46</td>\n",
       "      <td>104</td>\n",
       "      <td>NaN</td>\n",
       "      <td>NaN</td>\n",
       "      <td>2012.0</td>\n",
       "      <td>2012.0</td>\n",
       "      <td>328</td>\n",
       "      <td>['nonfiction']</td>\n",
       "      <td>NaN</td>\n",
       "      <td>NaN</td>\n",
       "      <td>21.0</td>\n",
       "      <td>False</td>\n",
       "      <td>nonfiction</td>\n",
       "    </tr>\n",
       "  </tbody>\n",
       "</table>\n",
       "<p>5811 rows × 15 columns</p>\n",
       "</div>"
      ],
      "text/plain": [
       "                                           Naslov               Avtor  Ocena  \\\n",
       "knjiga                                                                         \n",
       "1                                The Hunger Games     Suzanne Collins   4.34   \n",
       "1                                The Hunger Games     Suzanne Collins   4.34   \n",
       "1                                The Hunger Games     Suzanne Collins   4.34   \n",
       "1                                The Hunger Games     Suzanne Collins   4.34   \n",
       "1                                The Hunger Games     Suzanne Collins   4.34   \n",
       "2       Harry Potter and the Order of the Phoenix        J.K. Rowling   4.47   \n",
       "2       Harry Potter and the Order of the Phoenix        J.K. Rowling   4.47   \n",
       "2       Harry Potter and the Order of the Phoenix        J.K. Rowling   4.47   \n",
       "3                           To Kill a Mockingbird          Harper Lee   4.26   \n",
       "3                           To Kill a Mockingbird          Harper Lee   4.26   \n",
       "...                                           ...                 ...    ...   \n",
       "1197                                   Masquerade  Melissa de la Cruz   3.91   \n",
       "1197                                   Masquerade  Melissa de la Cruz   3.91   \n",
       "1198                   Lola and the Boy Next Door   Stephanie Perkins   4.00   \n",
       "1198                   Lola and the Boy Next Door   Stephanie Perkins   4.00   \n",
       "1198                   Lola and the Boy Next Door   Stephanie Perkins   4.00   \n",
       "1198                   Lola and the Boy Next Door   Stephanie Perkins   4.00   \n",
       "1199                 Tomorrow, When the War Began        John Marsden   4.05   \n",
       "1199                 Tomorrow, When the War Began        John Marsden   4.05   \n",
       "1199                 Tomorrow, When the War Began        John Marsden   4.05   \n",
       "1200    Crossing the Seas: A Diary of My Thoughts         Yuehai Xiao   4.46   \n",
       "\n",
       "        Stevilo_ocen                    Serija  Del_serije  Leto_izida  \\\n",
       "knjiga                                                                   \n",
       "1            5170396          The Hunger Games         1.0      2008.0   \n",
       "1            5170396          The Hunger Games         1.0      2008.0   \n",
       "1            5170396          The Hunger Games         1.0      2008.0   \n",
       "1            5170396          The Hunger Games         1.0      2008.0   \n",
       "1            5170396          The Hunger Games         1.0      2008.0   \n",
       "2            1907536              Harry Potter         5.0      2003.0   \n",
       "2            1907536              Harry Potter         5.0      2003.0   \n",
       "2            1907536              Harry Potter         5.0      2003.0   \n",
       "3            3453278                       NaN         NaN      1960.0   \n",
       "3            3453278                       NaN         NaN      1960.0   \n",
       "...              ...                       ...         ...         ...   \n",
       "1197           80610               Blue Bloods         2.0      2007.0   \n",
       "1197           80610               Blue Bloods         2.0      2007.0   \n",
       "1198          127820  Anna and the French Kiss         2.0      2011.0   \n",
       "1198          127820  Anna and the French Kiss         2.0      2011.0   \n",
       "1198          127820  Anna and the French Kiss         2.0      2011.0   \n",
       "1198          127820  Anna and the French Kiss         2.0      2011.0   \n",
       "1199           42008                  Tomorrow         1.0      1993.0   \n",
       "1199           42008                  Tomorrow         1.0      1993.0   \n",
       "1199           42008                  Tomorrow         1.0      1993.0   \n",
       "1200             104                       NaN         NaN      2012.0   \n",
       "\n",
       "        Leto_izdaje  Stevilo_strani  \\\n",
       "knjiga                                \n",
       "1            2008.0             374   \n",
       "1            2008.0             374   \n",
       "1            2008.0             374   \n",
       "1            2008.0             374   \n",
       "1            2008.0             374   \n",
       "2            2004.0             870   \n",
       "2            2004.0             870   \n",
       "2            2004.0             870   \n",
       "3            2006.0             324   \n",
       "3            2006.0             324   \n",
       "...             ...             ...   \n",
       "1197         2007.0             307   \n",
       "1197         2007.0             307   \n",
       "1198         2011.0             384   \n",
       "1198         2011.0             384   \n",
       "1198         2011.0             384   \n",
       "1198         2011.0             384   \n",
       "1199         2006.0             276   \n",
       "1199         2006.0             276   \n",
       "1199         2006.0             276   \n",
       "1200         2012.0             328   \n",
       "\n",
       "                                                   Zvrsti  Rojstvo_avtorja  \\\n",
       "knjiga                                                                       \n",
       "1       ['youngadult', 'fiction', 'dystopia', 'fantasy...           1962.0   \n",
       "1       ['youngadult', 'fiction', 'dystopia', 'fantasy...           1962.0   \n",
       "1       ['youngadult', 'fiction', 'dystopia', 'fantasy...           1962.0   \n",
       "1       ['youngadult', 'fiction', 'dystopia', 'fantasy...           1962.0   \n",
       "1       ['youngadult', 'fiction', 'dystopia', 'fantasy...           1962.0   \n",
       "2                    ['fantasy', 'youngadult', 'fiction']           1965.0   \n",
       "2                    ['fantasy', 'youngadult', 'fiction']           1965.0   \n",
       "2                    ['fantasy', 'youngadult', 'fiction']           1965.0   \n",
       "3             ['classics', 'historicalfiction', 'school']           1926.0   \n",
       "3             ['classics', 'historicalfiction', 'school']           1926.0   \n",
       "...                                                   ...              ...   \n",
       "1197    ['vampires', 'youngadult', 'fantasy', 'paranor...              NaN   \n",
       "1197    ['vampires', 'youngadult', 'fantasy', 'paranor...              NaN   \n",
       "1198    ['youngadult', 'romance', 'contemporary', 'chi...              NaN   \n",
       "1198    ['youngadult', 'romance', 'contemporary', 'chi...              NaN   \n",
       "1198    ['youngadult', 'romance', 'contemporary', 'chi...              NaN   \n",
       "1198    ['youngadult', 'romance', 'contemporary', 'chi...              NaN   \n",
       "1199                ['youngadult', 'fiction', 'dystopia']           1950.0   \n",
       "1199                ['youngadult', 'fiction', 'dystopia']           1950.0   \n",
       "1199                ['youngadult', 'fiction', 'dystopia']           1950.0   \n",
       "1200                                       ['nonfiction']              NaN   \n",
       "\n",
       "           Poreklo_avtorja  Stoletje Je_serija              Zvrst  \n",
       "knjiga                                                             \n",
       "1        The United States      21.0      True         youngadult  \n",
       "1        The United States      21.0      True            fiction  \n",
       "1        The United States      21.0      True           dystopia  \n",
       "1        The United States      21.0      True            fantasy  \n",
       "1        The United States      21.0      True     sciencefiction  \n",
       "2       The United Kingdom      21.0      True            fantasy  \n",
       "2       The United Kingdom      21.0      True         youngadult  \n",
       "2       The United Kingdom      21.0      True            fiction  \n",
       "3        The United States      20.0     False           classics  \n",
       "3        The United States      20.0     False  historicalfiction  \n",
       "...                    ...       ...       ...                ...  \n",
       "1197                   NaN      21.0      True            fantasy  \n",
       "1197                   NaN      21.0      True         paranormal  \n",
       "1198                   NaN      21.0      True         youngadult  \n",
       "1198                   NaN      21.0      True            romance  \n",
       "1198                   NaN      21.0      True       contemporary  \n",
       "1198                   NaN      21.0      True           chicklit  \n",
       "1199           n Australia      20.0      True         youngadult  \n",
       "1199           n Australia      20.0      True            fiction  \n",
       "1199           n Australia      20.0      True           dystopia  \n",
       "1200                   NaN      21.0     False         nonfiction  \n",
       "\n",
       "[5811 rows x 15 columns]"
      ]
     },
     "execution_count": 26,
     "metadata": {},
     "output_type": "execute_result"
    }
   ],
   "source": [
    "zvrsti_knjig = pd.merge(knjige,zvrsti,left_index=True,right_index=True)\n",
    "zvrsti_knjig.columns.values[14] = 'Zvrst'\n",
    "zvrsti_knjig"
   ]
  },
  {
   "cell_type": "code",
   "execution_count": 27,
   "metadata": {
    "collapsed": false
   },
   "outputs": [
    {
     "data": {
      "text/plain": [
       "Zvrst\n",
       "fiction              826\n",
       "classics             461\n",
       "fantasy              411\n",
       "youngadult           357\n",
       "romance              308\n",
       "literature           223\n",
       "historicalfiction    220\n",
       "contemporary         156\n",
       "paranormal           138\n",
       "sciencefiction       132\n",
       "childrens            110\n",
       "mystery              104\n",
       "nonfiction            83\n",
       "novels                82\n",
       "historical            73\n",
       "dystopia              70\n",
       "vampires              69\n",
       "horror                67\n",
       "adventure             66\n",
       "thriller              60\n",
       "Name: Naslov, dtype: int64"
      ]
     },
     "execution_count": 27,
     "metadata": {},
     "output_type": "execute_result"
    }
   ],
   "source": [
    "po_zvrsteh = zvrsti_knjig.groupby('Zvrst')['Naslov'].count().nlargest(20)\n",
    "po_zvrsteh"
   ]
  },
  {
   "cell_type": "markdown",
   "metadata": {},
   "source": [
    "Iz različnih zvrsti bom izbral 11 tistih, ki se največkrat pojavijo in niso preveč generične ter analiziral, kolikokrat so različne zvrsti knjig ocenjene in kako se je skozi stoletja spreminjala zastopanost določenih zvrsti."
   ]
  },
  {
   "cell_type": "code",
   "execution_count": 28,
   "metadata": {
    "collapsed": false
   },
   "outputs": [
    {
     "data": {
      "text/plain": [
       "<matplotlib.text.Text at 0x1cefae78a90>"
      ]
     },
     "execution_count": 28,
     "metadata": {},
     "output_type": "execute_result"
    },
    {
     "data": {
      "image/png": "[encoded data removed]",
      "text/plain": [
       "<matplotlib.figure.Figure at 0x1cefabc0940>"
      ]
     },
     "metadata": {},
     "output_type": "display_data"
    }
   ],
   "source": [
    "zanimive_zvrsti = zvrsti_knjig[zvrsti_knjig['Zvrst'].isin(['fantasy','romance','historicalfiction','sciencefiction','mystery','historical','dystopia','vampires','horror','adventure','thriller'])]\n",
    "zanimive_zvrsti.groupby('Zvrst')['Stevilo_ocen'].mean().sort_values(ascending = False).plot.bar(title = 'Povprecno število ocen glede na zvrst')\n",
    "plt.ylabel('Povprečno število ocen')"
   ]
  },
  {
   "cell_type": "code",
   "execution_count": 29,
   "metadata": {
    "collapsed": false
   },
   "outputs": [
    {
     "data": {
      "text/plain": [
       "<matplotlib.axes._subplots.AxesSubplot at 0x1cefae38748>"
      ]
     },
     "execution_count": 29,
     "metadata": {},
     "output_type": "execute_result"
    },
    {
     "data": {
      "image/png": "[encoded data removed]",
      "text/plain": [
       "<matplotlib.figure.Figure at 0x1cefabc07f0>"
      ]
     },
     "metadata": {},
     "output_type": "display_data"
    }
   ],
   "source": [
    "zvrsti_stoletja = zanimive_zvrsti.groupby(['Stoletje','Zvrst']).size().unstack()\n",
    "delez_zvrsti_stoletja = zvrsti_stoletja.apply(lambda st: st /st.sum(),axis = 1)\n",
    "delez_zvrsti_stoletja.plot(kind = 'area',title = 'Zastopanost posameznih zvrsti tekom stoletji')"
   ]
  },
  {
   "cell_type": "markdown",
   "metadata": {},
   "source": [
    "V zgornjem grafu vidimo, da sta imela do nastopa renesanse fantazija in zgodovinska fikcija popoln monopol. Z obdobjem renesanse je nato vlogo zgodovinske fikcije prevzela ljubezenska literatura, ki je v sicer zmanjšanem obsegu ohranila delež do sedanjosti. Ostale zvrsti se začno pojavljati nekje med 18. in 19. stoletjem.\n"
   ]
  },
  {
   "cell_type": "markdown",
   "metadata": {},
   "source": [
    "### Analiza avtorjev"
   ]
  },
  {
   "cell_type": "markdown",
   "metadata": {},
   "source": [
    "V tem razdelku sem najprej popravil nekaj očitnih napak v podatkih, nato pa sestavil tabelo z 20 avtorji, ki se največkrat pojavijo na našem seznamu. "
   ]
  },
  {
   "cell_type": "code",
   "execution_count": 30,
   "metadata": {
    "collapsed": false
   },
   "outputs": [
    {
     "data": {
      "text/plain": [
       "Avtor\n",
       "Stephen King           21\n",
       "Rick Riordan           14\n",
       "William Shakespeare    14\n",
       "Nicholas Sparks        13\n",
       "C.S. Lewis             11\n",
       "Richelle Mead          11\n",
       "Cassandra Clare        10\n",
       "Charlaine Harris        9\n",
       "J.K. Rowling            9\n",
       "J.R. Ward               8\n",
       "P.C. Cast               8\n",
       "Sarah J. Maas           8\n",
       "Terry Pratchett         8\n",
       "Charles Dickens         7\n",
       "Diana Gabaldon          7\n",
       "Dr. Seuss               7\n",
       "J.R.R. Tolkien          7\n",
       "James Patterson         7\n",
       "Jane Austen             7\n",
       "Neil Gaiman             7\n",
       "dtype: int64"
      ]
     },
     "execution_count": 30,
     "metadata": {},
     "output_type": "execute_result"
    }
   ],
   "source": [
    "knjige.loc[knjige.Avtor == 'William Shakespeare','Rojstvo_avtorja'] = 1564\n",
    "knjige.loc[knjige.Avtor == 'Stephen King','Rojstvo_avtorja'] = 1947\n",
    "knjige.loc[knjige.Rojstvo_avtorja > 0,'Stoletje_avtor'] = (knjige.Rojstvo_avtorja // 100) +1\n",
    "knjige.loc[knjige.Rojstvo_avtorja < 0,'Stoletje_avtor'] = (knjige.Rojstvo_avtorja // 100) \n",
    "knjige.groupby('Avtor').size().nlargest(20)"
   ]
  },
  {
   "cell_type": "code",
   "execution_count": 31,
   "metadata": {
    "collapsed": false
   },
   "outputs": [
    {
     "data": {
      "image/png": "[encoded data removed]",
      "text/plain": [
       "<matplotlib.figure.Figure at 0x1cefab32c18>"
      ]
     },
     "metadata": {},
     "output_type": "display_data"
    }
   ],
   "source": [
    "avtorji_stoletja = knjige.groupby(['Stoletje_avtor','Avtor']).size().nlargest(20).unstack()\n",
    "avtorji_stoletja['Vsota'] = avtorji_stoletja.sum(axis=1)\n",
    "g = avtorji_stoletja.plot.pie('Vsota', autopct = '%.2f',legend = None,title = 'Delez avtorjev glede na stoletje med 20 največkrat pojavljenimi avtorji')\n",
    "g.set_ylabel('')\n",
    "plt.axis('equal')\n",
    "plt.show()"
   ]
  },
  {
   "cell_type": "markdown",
   "metadata": {},
   "source": [
    "### Analiza porekla avtorjev "
   ]
  },
  {
   "cell_type": "markdown",
   "metadata": {},
   "source": [
    "Ker, kot sem že omenil podatki o jeziku knjige niso bili na voljo, se bomo zadovolili s poreklom avtorjev. Kot poreklo avtorja, je mišljena država njegovega rojstva. Najprej, sem moral preurediti nekatere napačne vnose."
   ]
  },
  {
   "cell_type": "code",
   "execution_count": 32,
   "metadata": {
    "collapsed": true
   },
   "outputs": [],
   "source": [
    "knjige.loc[knjige.Poreklo_avtorja.isin(['England','he United Kingdom','Scotland']),'Poreklo_avtorja']= 'The United Kingdom'\n",
    "knjige.loc[knjige.Poreklo_avtorja.isin(['Michigan','n The United States','he United States','n Sierra Leone','New York','New Jrsey']),'Poreklo_avtorja']= 'The United States'\n",
    "knjige.loc[knjige.Poreklo_avtorja.isin(['n Russian Federation','Russian Empire']),'Poreklo_avtorja']= 'Russian Federation'\n",
    "knjige.loc[knjige.Poreklo_avtorja == 'n India' ,'Poreklo_avtorja']= 'India'\n",
    "knjige.loc[knjige.Poreklo_avtorja == 'n Greece' ,'Poreklo_avtorja']= 'Greece'\n",
    "knjige.loc[knjige.Poreklo_avtorja == 'n Canada' ,'Poreklo_avtorja']= 'Canada'\n",
    "knjige.loc[knjige.Poreklo_avtorja == 'n Australia' ,'Poreklo_avtorja']= 'Australia'\n",
    "knjige.loc[knjige.Poreklo_avtorja == 'imbabwe' ,'Poreklo_avtorja']= 'Zimbabwe'\n",
    "knjige.loc[knjige.Poreklo_avtorja == 'hina' ,'Poreklo_avtorja']= 'China'\n",
    "knjige.loc[knjige.Poreklo_avtorja.isin(['French  Republic','Kingdom of France']),'Poreklo_avtorja']= 'France'\n",
    "knjige.loc[knjige.Poreklo_avtorja == 'n Kenya' ,'Poreklo_avtorja']= 'Kenya'\n"
   ]
  },
  {
   "cell_type": "markdown",
   "metadata": {},
   "source": [
    "Za analizo spreminjanja porekla vodilnih predstavnikov književnosti tekom stoletji, sem države porekla zožil na 10 najpogesteje pojavljenih. Iz zgodovinskih razlogov sem jim ročno dodal Grčijo in Italijo in za dane države sem konstruiral naslednjo shemo."
   ]
  },
  {
   "cell_type": "code",
   "execution_count": 33,
   "metadata": {
    "collapsed": false
   },
   "outputs": [
    {
     "data": {
      "image/png": "[encoded data removed]",
      "text/plain": [
       "<matplotlib.figure.Figure at 0x1cefb19cc18>"
      ]
     },
     "metadata": {},
     "output_type": "display_data"
    }
   ],
   "source": [
    "top_jeziki = knjige.groupby('Poreklo_avtorja').size().nlargest(10)\n",
    "seznam = list(top_jeziki.index) + ['Italy','Greece']\n",
    "izbris = ['Canada','Australia']\n",
    "koncni = list(set(seznam).difference(set(izbris)))\n",
    "popularni_jeziki = knjige[knjige['Poreklo_avtorja'].isin(koncni)]\n",
    "pop_1 = popularni_jeziki.groupby(['Stoletje_avtor','Poreklo_avtorja']).size().unstack()\n",
    "pop_2 = pop_1.apply(lambda st: st / st.sum(), axis=1).plot(kind  = 'area',title = 'Zastopanost nacionalnosti vodilnih avtorjev tekom stoletji')\n"
   ]
  },
  {
   "cell_type": "markdown",
   "metadata": {},
   "source": [
    "Na zgornji shemi je lepo videti kako se je tekom stoletji spreminjala narodnost vodilnih knižnjih avtorjev. Do 4. stoletja pr.n.št. je bilo edino ustvarjalno območje Antična Grčija, nato pa je primat začelo prevzemati območje Italije oz. takratni Rim. Italija je bila edina literarna sila vse do 16. stoletja (naj spomnim, da za obdobje med 1. in 11. stoletjem na našem seznamu sploh ni knjig), ko je primat s Shakespearom na čelu prevzela Velika Britanija. V obdobju razsvetljensta in romantike so se na zemljevidu pojavile tudi Rusija, Francija ter Nemčija. Z 19. stoletjem, pa se je začel vzpon avtorjev iz ZDA, ki so do 20. stoletja predstavljali že več kot polovico vseh avtorjev."
   ]
  },
  {
   "cell_type": "code",
   "execution_count": null,
   "metadata": {
    "collapsed": true
   },
   "outputs": [],
   "source": []
  }
 ],
 "metadata": {
  "kernelspec": {
   "display_name": "Python 3",
   "language": "python",
   "name": "python3"
  },
  "language_info": {
   "codemirror_mode": {
    "name": "ipython",
    "version": 3
   },
   "file_extension": ".py",
   "mimetype": "text/x-python",
   "name": "python",
   "nbconvert_exporter": "python",
   "pygments_lexer": "ipython3",
   "version": "3.6.0"
  }
 },
 "nbformat": 4,
 "nbformat_minor": 2
}
